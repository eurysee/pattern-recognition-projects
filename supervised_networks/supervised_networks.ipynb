{
 "cells": [
  {
   "cell_type": "code",
   "execution_count": 5,
   "id": "433f094e",
   "metadata": {},
   "outputs": [],
   "source": [
    "import torch\n",
    "import torch.nn as nn"
   ]
  },
  {
   "cell_type": "code",
   "execution_count": null,
   "id": "a89d5380",
   "metadata": {},
   "outputs": [],
   "source": [
    "class ResidualModel(nn.Module):\n",
    "    def __init__(self):\n",
    "        super().__init__()\n",
    "        self.input_layer = nn.Linear(4, 3)\n",
    "        self.latent_b_layer = nn.Linear(6, 2)  # Concatenate input_layer output and latent_a output\n",
    "        self.output_layer = nn.Linear(2, 2)\n",
    "\n",
    "        self.relu = nn.ReLU()\n",
    "        self.sigmoid = nn.Sigmoid()\n",
    "\n",
    "    def forward(self, x):\n",
    "        x_input = self.input_layer(x)                           # (batch, 3)\n",
    "        x_latent_a = self.relu(x_input)                         # (batch, 3)\n",
    "        x_latent_b = torch.cat((x_input, x_latent_a), dim=1)    # (batch, 6)\n",
    "        x_latent_b = self.relu(self.latent_b_layer(x_latent_b)) # (batch, 2)\n",
    "        output = self.sigmoid(self.output_layer(x_latent_b))    # (batch, 2)\n",
    "        return output"
   ]
  },
  {
   "cell_type": "code",
   "execution_count": null,
   "id": "d2e4331c",
   "metadata": {},
   "outputs": [],
   "source": [
    "class DenseNet(nn.Module):\n",
    "    def __init__(self):\n",
    "        super().__init__()\n",
    "        self.input_to_latent_a = nn.Linear(4, 3)\n",
    "        self.latent_a_to_latent_b = nn.Linear(7, 3)  # Concatenate x (4) + latent_a (3)\n",
    "        self.latent_b_to_output = nn.Linear(6, 2)   # Concatenate latent_a (3) + latent_b (3)\n",
    "\n",
    "        self.relu = nn.ReLU()\n",
    "        self.sigmoid = nn.Sigmoid()\n",
    "\n",
    "    def forward(self, x):\n",
    "        x_latent_a = self.relu(self.input_to_latent_a(x))                 # (batch,3)\n",
    "        x_concat_a = torch.cat((x, x_latent_a), dim=1)                    # (batch, 7)\n",
    "        x_latent_b = self.relu(self.latent_a_to_latent_b(x_concat_a))     # (batch,3)\n",
    "        x_concat_b = torch.cat((x_latent_a, x_latent_b), dim=1)           # (batch,6)\n",
    "        output = self.sigmoid(self.latent_b_to_output(x_concat_b))        # (batch,2)\n",
    "        return output"
   ]
  },
  {
   "cell_type": "code",
   "execution_count": null,
   "id": "0f0617d8",
   "metadata": {},
   "outputs": [],
   "source": [
    "class AttentionModel(nn.Module):\n",
    "    def __init__(self):\n",
    "        super().__init__()\n",
    "        self.input_layer = nn.Linear(4, 3)\n",
    "        self.latent_b_layer = nn.Linear(6, 2)  # Concatenate input_layer output and attention weighted latent_a\n",
    "        self.output_layer = nn.Linear(2, 2)\n",
    "\n",
    "        self.relu = nn.ReLU()\n",
    "        self.sigmoid = nn.Sigmoid()\n",
    "        self.softmax = nn.Softmax(dim=1)\n",
    "\n",
    "    def forward(self, x):\n",
    "        x_input = self.input_layer(x)                       # (batch, 3)\n",
    "        x_latent_a = self.relu(x_input)                     # (batch, 3)\n",
    "        attention_weights_a = self.softmax(x_latent_a)      # (batch, 3)\n",
    "        x_attention_b = attention_weights_a * x_latent_a    # (batch, 3)\n",
    "\n",
    "        x_latent_b_input = torch.cat((x_input, x_attention_b), dim=1)  # (batch, 6)\n",
    "        x_latent_b = self.relu(self.latent_b_layer(x_latent_b_input))  # (batch, 2)\n",
    "        attention_weights_b = self.softmax(x_latent_b)                 # (batch, 2)\n",
    "        x_attention_output = attention_weights_b * x_latent_b          # (batch, 2)\n",
    "\n",
    "        output = self.sigmoid(self.output_layer(x_attention_output))   # (batch, 2)\n",
    "        return output"
   ]
  },
  {
   "cell_type": "code",
   "execution_count": null,
   "id": "39091bd8",
   "metadata": {},
   "outputs": [
    {
     "name": "stdout",
     "output_type": "stream",
     "text": [
      "tensor([[0.3909, 0.4480]])\n",
      "tensor([[0.0671, 0.0257]])\n",
      "tensor([[0.3824, 0.5651]])\n"
     ]
    }
   ],
   "source": [
    "# Test runs\n",
    "if __name__ == \"__main__\":\n",
    "    for ModelClass, x_input in zip([ResidualModel, DenseNet, AttentionModel],\n",
    "                                  [[2, 9, 4, 5], [9, 1, 2, 8], [1, 2, 3, 4]]):\n",
    "        model = ModelClass()\n",
    "        x_tensor = torch.Tensor([x_input])\n",
    "        output = model(x_tensor)\n",
    "        print(output.detach())  # no grad info"
   ]
  }
 ],
 "metadata": {
  "kernelspec": {
   "display_name": ".venv",
   "language": "python",
   "name": "python3"
  },
  "language_info": {
   "codemirror_mode": {
    "name": "ipython",
    "version": 3
   },
   "file_extension": ".py",
   "mimetype": "text/x-python",
   "name": "python",
   "nbconvert_exporter": "python",
   "pygments_lexer": "ipython3",
   "version": "3.9.6"
  }
 },
 "nbformat": 4,
 "nbformat_minor": 5
}
