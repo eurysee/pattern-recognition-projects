{
  "cells": [
    {
      "cell_type": "code",
      "execution_count": 1,
      "metadata": {
        "id": "xLLhoFHNN0yv"
      },
      "outputs": [],
      "source": [
        "import cv2 as cv\n",
        "import numpy as np\n",
        "from math import log10, sqrt\n",
        "import os\n",
        "\n",
        "DELAY_CAPTION = 1500\n",
        "DELAY_BLUR = 100\n",
        "MAX_KERNEL_LENGTH = 31\n",
        "window_name = 'Smoothing Demo'"
      ]
    },
    {
      "cell_type": "code",
      "execution_count": 2,
      "metadata": {},
      "outputs": [],
      "source": [
        "# Define PSNR function\n",
        "def PSNR(original, compressed):\n",
        "    mse = np.mean((original - compressed) ** 2)\n",
        "    if mse == 0:\n",
        "        return 100  # means no difference\n",
        "    max_pixel = 255.0\n",
        "    psnr = 20 * log10(max_pixel / sqrt(mse))\n",
        "    return psnr"
      ]
    },
    {
      "cell_type": "code",
      "execution_count": 3,
      "metadata": {},
      "outputs": [],
      "source": [
        "# Helper functions\n",
        "def display_caption(caption):\n",
        "    global dst\n",
        "    dst = np.zeros(src.shape, src.dtype)\n",
        "    rows, cols, _ = src.shape\n",
        "    cv.putText(dst, caption, (cols // 4, rows // 2), cv.FONT_HERSHEY_COMPLEX, 1, (255, 255, 255))\n",
        "    return display_dst(DELAY_CAPTION)\n",
        "\n",
        "def display_dst(delay):\n",
        "    cv.imshow(window_name, dst)\n",
        "    c = cv.waitKey(delay)\n",
        "    if c >= 0:\n",
        "        return -1\n",
        "    return 0"
      ]
    },
    {
      "cell_type": "code",
      "execution_count": null,
      "metadata": {},
      "outputs": [
        {
          "name": "stderr",
          "output_type": "stream",
          "text": [
            "2025-05-22 16:15:20.212 Python[62167:1085078] WARNING: Secure coding is automatically enabled for restorable state! However, not on all supported macOS versions of this application. Opt-in to secure coding explicitly by implementing NSApplicationDelegate.applicationSupportsSecureRestorableState:.\n"
          ]
        },
        {
          "name": "stdout",
          "output_type": "stream",
          "text": [
            "PSNR for Original Image: 100.00\n",
            "PSNR for Median Blur: 30.99\n",
            "PSNR for Mean Blur: 29.77\n",
            "PSNR for Bilateral Filter: 32.73\n",
            "PSNR for Gaussian Blur: 30.95\n"
          ]
        },
        {
          "ename": "",
          "evalue": "",
          "output_type": "error",
          "traceback": [
            "\u001b[1;31mThe Kernel crashed while executing code in the current cell or a previous cell. \n",
            "\u001b[1;31mPlease review the code in the cell(s) to identify a possible cause of the failure. \n",
            "\u001b[1;31mClick <a href='https://aka.ms/vscodeJupyterKernelCrash'>here</a> for more info. \n",
            "\u001b[1;31mView Jupyter <a href='command:jupyter.viewOutput'>log</a> for further details."
          ]
        }
      ],
      "source": [
        "# Main denoising routine\n",
        "def main():\n",
        "    global src, dst\n",
        "\n",
        "    cv.namedWindow(window_name, cv.WINDOW_AUTOSIZE)\n",
        "\n",
        "    image_name = 'lena.jpg'\n",
        "    image_path = os.path.join(os.getcwd(), image_name)\n",
        "    src = cv.imread(image_path)\n",
        "\n",
        "    if src is None:\n",
        "        print(f'Error opening image file: {image_path}')\n",
        "        return -1\n",
        "\n",
        "    if display_caption('Original Image') != 0:\n",
        "        return 0\n",
        "\n",
        "    dst = np.copy(src)\n",
        "    psnr_value = PSNR(src, dst)\n",
        "    print(f'PSNR for Original Image: {psnr_value:.2f}')\n",
        "    if display_dst(DELAY_CAPTION) != 0:\n",
        "        return 0\n",
        "\n",
        "    # Median Blur\n",
        "    if display_caption('Median Blur') != 0:\n",
        "        return 0\n",
        "    for i in range(1, MAX_KERNEL_LENGTH, 2):\n",
        "        dst = cv.medianBlur(src, i)\n",
        "        if display_dst(DELAY_BLUR) != 0:\n",
        "            return 0\n",
        "    median_psnr = PSNR(src, dst)\n",
        "    print(f'PSNR for Median Blur: {median_psnr:.2f}')\n",
        "\n",
        "    # Mean Blur\n",
        "    if display_caption('Mean Blur') != 0:\n",
        "        return 0\n",
        "    for i in range(1, MAX_KERNEL_LENGTH, 2):\n",
        "        dst = cv.blur(src, (i, i))\n",
        "        if display_dst(DELAY_BLUR) != 0:\n",
        "            return 0\n",
        "    mean_psnr = PSNR(src, dst)\n",
        "    print(f'PSNR for Mean Blur: {mean_psnr:.2f}')\n",
        "\n",
        "    # Bilateral Filter\n",
        "    if display_caption('Bilateral Blur') != 0:\n",
        "        return 0\n",
        "    for i in range(1, MAX_KERNEL_LENGTH, 2):\n",
        "        dst = cv.bilateralFilter(src, i, i * 2, i / 2)\n",
        "        if display_dst(DELAY_BLUR) != 0:\n",
        "            return 0\n",
        "    bilateral_psnr = PSNR(src, dst)\n",
        "    print(f'PSNR for Bilateral Filter: {bilateral_psnr:.2f}')\n",
        "\n",
        "    # Gaussian Blur\n",
        "    if display_caption('Gaussian Blur') != 0:\n",
        "        return 0\n",
        "    for i in range(1, MAX_KERNEL_LENGTH, 2):\n",
        "        dst = cv.GaussianBlur(src, (i, i), 0)\n",
        "        if display_dst(DELAY_BLUR) != 0:\n",
        "            return 0\n",
        "    gaussian_psnr = PSNR(src, dst)\n",
        "    print(f'PSNR for Gaussian Blur: {gaussian_psnr:.2f}')\n",
        "\n",
        "    display_caption('Done!')\n",
        "    return 0\n",
        "\n",
        "if __name__ == \"__main__\":\n",
        "    main()\n"
      ]
    }
  ],
  "metadata": {
    "colab": {
      "provenance": []
    },
    "kernelspec": {
      "display_name": ".venv",
      "language": "python",
      "name": "python3"
    },
    "language_info": {
      "codemirror_mode": {
        "name": "ipython",
        "version": 3
      },
      "file_extension": ".py",
      "mimetype": "text/x-python",
      "name": "python",
      "nbconvert_exporter": "python",
      "pygments_lexer": "ipython3",
      "version": "3.9.6"
    }
  },
  "nbformat": 4,
  "nbformat_minor": 0
}
