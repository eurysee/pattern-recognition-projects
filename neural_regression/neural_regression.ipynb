{
  "cells": [
    {
      "cell_type": "code",
      "execution_count": null,
      "metadata": {
        "id": "2jnTMpQ3vRJx"
      },
      "outputs": [],
      "source": [
        "import pandas as pd\n",
        "import numpy as np\n",
        "import torch\n",
        "import torch.nn as nn\n",
        "from torch.autograd import Variable\n",
        "import torch.nn.functional as F\n",
        "import matplotlib.pyplot as plt\n",
        "from torch.utils.data import Dataset\n",
        "from torch.utils.data import DataLoader"
      ]
    },
    {
      "cell_type": "markdown",
      "metadata": {
        "id": "CSxDX0jMvpjZ"
      },
      "source": [
        "# Download Gold Price Data\n",
        "\n",
        "This dataset contains chronological data with regards to the price of gold. We will download and load it in a pandas data frame called `df`."
      ]
    },
    {
      "cell_type": "code",
      "execution_count": 495,
      "metadata": {
        "colab": {
          "base_uri": "https://localhost:8080/"
        },
        "id": "KARZgZI-v5vv",
        "outputId": "30cadc85-7284-43ac-9f53-31f2168b5eb9"
      },
      "outputs": [
        {
          "data": {
            "text/html": [
              "<div>\n",
              "<style scoped>\n",
              "    .dataframe tbody tr th:only-of-type {\n",
              "        vertical-align: middle;\n",
              "    }\n",
              "\n",
              "    .dataframe tbody tr th {\n",
              "        vertical-align: top;\n",
              "    }\n",
              "\n",
              "    .dataframe thead th {\n",
              "        text-align: right;\n",
              "    }\n",
              "</style>\n",
              "<table border=\"1\" class=\"dataframe\">\n",
              "  <thead>\n",
              "    <tr style=\"text-align: right;\">\n",
              "      <th></th>\n",
              "      <th>Date</th>\n",
              "      <th>Open</th>\n",
              "      <th>High</th>\n",
              "      <th>Low</th>\n",
              "      <th>Close</th>\n",
              "      <th>Adj Close</th>\n",
              "      <th>Volume</th>\n",
              "      <th>SP_open</th>\n",
              "      <th>SP_high</th>\n",
              "      <th>SP_low</th>\n",
              "      <th>...</th>\n",
              "      <th>GDX_Low</th>\n",
              "      <th>GDX_Close</th>\n",
              "      <th>GDX_Adj Close</th>\n",
              "      <th>GDX_Volume</th>\n",
              "      <th>USO_Open</th>\n",
              "      <th>USO_High</th>\n",
              "      <th>USO_Low</th>\n",
              "      <th>USO_Close</th>\n",
              "      <th>USO_Adj Close</th>\n",
              "      <th>USO_Volume</th>\n",
              "    </tr>\n",
              "  </thead>\n",
              "  <tbody>\n",
              "    <tr>\n",
              "      <th>0</th>\n",
              "      <td>2011-12-15</td>\n",
              "      <td>154.740005</td>\n",
              "      <td>154.949997</td>\n",
              "      <td>151.710007</td>\n",
              "      <td>152.330002</td>\n",
              "      <td>152.330002</td>\n",
              "      <td>21521900</td>\n",
              "      <td>123.029999</td>\n",
              "      <td>123.199997</td>\n",
              "      <td>121.989998</td>\n",
              "      <td>...</td>\n",
              "      <td>51.570000</td>\n",
              "      <td>51.680000</td>\n",
              "      <td>48.973877</td>\n",
              "      <td>20605600</td>\n",
              "      <td>36.900002</td>\n",
              "      <td>36.939999</td>\n",
              "      <td>36.049999</td>\n",
              "      <td>36.130001</td>\n",
              "      <td>36.130001</td>\n",
              "      <td>12616700</td>\n",
              "    </tr>\n",
              "    <tr>\n",
              "      <th>1</th>\n",
              "      <td>2011-12-16</td>\n",
              "      <td>154.309998</td>\n",
              "      <td>155.369995</td>\n",
              "      <td>153.899994</td>\n",
              "      <td>155.229996</td>\n",
              "      <td>155.229996</td>\n",
              "      <td>18124300</td>\n",
              "      <td>122.230003</td>\n",
              "      <td>122.949997</td>\n",
              "      <td>121.300003</td>\n",
              "      <td>...</td>\n",
              "      <td>52.040001</td>\n",
              "      <td>52.680000</td>\n",
              "      <td>49.921513</td>\n",
              "      <td>16285400</td>\n",
              "      <td>36.180000</td>\n",
              "      <td>36.500000</td>\n",
              "      <td>35.730000</td>\n",
              "      <td>36.270000</td>\n",
              "      <td>36.270000</td>\n",
              "      <td>12578800</td>\n",
              "    </tr>\n",
              "    <tr>\n",
              "      <th>2</th>\n",
              "      <td>2011-12-19</td>\n",
              "      <td>155.479996</td>\n",
              "      <td>155.860001</td>\n",
              "      <td>154.360001</td>\n",
              "      <td>154.869995</td>\n",
              "      <td>154.869995</td>\n",
              "      <td>12547200</td>\n",
              "      <td>122.059998</td>\n",
              "      <td>122.320000</td>\n",
              "      <td>120.029999</td>\n",
              "      <td>...</td>\n",
              "      <td>51.029999</td>\n",
              "      <td>51.169998</td>\n",
              "      <td>48.490578</td>\n",
              "      <td>15120200</td>\n",
              "      <td>36.389999</td>\n",
              "      <td>36.450001</td>\n",
              "      <td>35.930000</td>\n",
              "      <td>36.200001</td>\n",
              "      <td>36.200001</td>\n",
              "      <td>7418200</td>\n",
              "    </tr>\n",
              "    <tr>\n",
              "      <th>3</th>\n",
              "      <td>2011-12-20</td>\n",
              "      <td>156.820007</td>\n",
              "      <td>157.429993</td>\n",
              "      <td>156.580002</td>\n",
              "      <td>156.979996</td>\n",
              "      <td>156.979996</td>\n",
              "      <td>9136300</td>\n",
              "      <td>122.180000</td>\n",
              "      <td>124.139999</td>\n",
              "      <td>120.370003</td>\n",
              "      <td>...</td>\n",
              "      <td>52.369999</td>\n",
              "      <td>52.990002</td>\n",
              "      <td>50.215282</td>\n",
              "      <td>11644900</td>\n",
              "      <td>37.299999</td>\n",
              "      <td>37.610001</td>\n",
              "      <td>37.220001</td>\n",
              "      <td>37.560001</td>\n",
              "      <td>37.560001</td>\n",
              "      <td>10041600</td>\n",
              "    </tr>\n",
              "    <tr>\n",
              "      <th>4</th>\n",
              "      <td>2011-12-21</td>\n",
              "      <td>156.979996</td>\n",
              "      <td>157.529999</td>\n",
              "      <td>156.130005</td>\n",
              "      <td>157.160004</td>\n",
              "      <td>157.160004</td>\n",
              "      <td>11996100</td>\n",
              "      <td>123.930000</td>\n",
              "      <td>124.360001</td>\n",
              "      <td>122.750000</td>\n",
              "      <td>...</td>\n",
              "      <td>52.419998</td>\n",
              "      <td>52.959999</td>\n",
              "      <td>50.186852</td>\n",
              "      <td>8724300</td>\n",
              "      <td>37.669998</td>\n",
              "      <td>38.240002</td>\n",
              "      <td>37.520000</td>\n",
              "      <td>38.110001</td>\n",
              "      <td>38.110001</td>\n",
              "      <td>10728000</td>\n",
              "    </tr>\n",
              "    <tr>\n",
              "      <th>5</th>\n",
              "      <td>2011-12-22</td>\n",
              "      <td>156.350006</td>\n",
              "      <td>156.800003</td>\n",
              "      <td>155.330002</td>\n",
              "      <td>156.039993</td>\n",
              "      <td>156.039993</td>\n",
              "      <td>9888400</td>\n",
              "      <td>124.629997</td>\n",
              "      <td>125.400002</td>\n",
              "      <td>124.230003</td>\n",
              "      <td>...</td>\n",
              "      <td>51.770000</td>\n",
              "      <td>52.400002</td>\n",
              "      <td>49.656178</td>\n",
              "      <td>13179600</td>\n",
              "      <td>38.270000</td>\n",
              "      <td>38.549999</td>\n",
              "      <td>38.209999</td>\n",
              "      <td>38.279999</td>\n",
              "      <td>38.279999</td>\n",
              "      <td>5376800</td>\n",
              "    </tr>\n",
              "    <tr>\n",
              "      <th>6</th>\n",
              "      <td>2011-12-23</td>\n",
              "      <td>156.350006</td>\n",
              "      <td>156.490005</td>\n",
              "      <td>155.820007</td>\n",
              "      <td>156.309998</td>\n",
              "      <td>156.309998</td>\n",
              "      <td>3565100</td>\n",
              "      <td>125.669998</td>\n",
              "      <td>126.430000</td>\n",
              "      <td>125.410004</td>\n",
              "      <td>...</td>\n",
              "      <td>52.349998</td>\n",
              "      <td>52.790001</td>\n",
              "      <td>50.169365</td>\n",
              "      <td>4729000</td>\n",
              "      <td>38.470001</td>\n",
              "      <td>38.610001</td>\n",
              "      <td>38.369999</td>\n",
              "      <td>38.490002</td>\n",
              "      <td>38.490002</td>\n",
              "      <td>2162200</td>\n",
              "    </tr>\n",
              "    <tr>\n",
              "      <th>7</th>\n",
              "      <td>2011-12-27</td>\n",
              "      <td>155.080002</td>\n",
              "      <td>155.550003</td>\n",
              "      <td>154.539993</td>\n",
              "      <td>154.910004</td>\n",
              "      <td>154.910004</td>\n",
              "      <td>4918600</td>\n",
              "      <td>126.169998</td>\n",
              "      <td>126.820000</td>\n",
              "      <td>126.059998</td>\n",
              "      <td>...</td>\n",
              "      <td>51.680000</td>\n",
              "      <td>51.869999</td>\n",
              "      <td>49.295036</td>\n",
              "      <td>4786400</td>\n",
              "      <td>38.490002</td>\n",
              "      <td>39.209999</td>\n",
              "      <td>38.459999</td>\n",
              "      <td>39.060001</td>\n",
              "      <td>39.060001</td>\n",
              "      <td>7834100</td>\n",
              "    </tr>\n",
              "    <tr>\n",
              "      <th>8</th>\n",
              "      <td>2011-12-28</td>\n",
              "      <td>154.050003</td>\n",
              "      <td>154.259995</td>\n",
              "      <td>150.660004</td>\n",
              "      <td>151.029999</td>\n",
              "      <td>151.029999</td>\n",
              "      <td>16436100</td>\n",
              "      <td>126.510002</td>\n",
              "      <td>126.529999</td>\n",
              "      <td>124.730003</td>\n",
              "      <td>...</td>\n",
              "      <td>50.009998</td>\n",
              "      <td>50.060001</td>\n",
              "      <td>47.574883</td>\n",
              "      <td>14170400</td>\n",
              "      <td>38.880001</td>\n",
              "      <td>38.889999</td>\n",
              "      <td>38.189999</td>\n",
              "      <td>38.340000</td>\n",
              "      <td>38.340000</td>\n",
              "      <td>5654300</td>\n",
              "    </tr>\n",
              "    <tr>\n",
              "      <th>9</th>\n",
              "      <td>2011-12-29</td>\n",
              "      <td>149.089996</td>\n",
              "      <td>150.720001</td>\n",
              "      <td>148.270004</td>\n",
              "      <td>150.339996</td>\n",
              "      <td>150.339996</td>\n",
              "      <td>19812200</td>\n",
              "      <td>125.239998</td>\n",
              "      <td>126.250000</td>\n",
              "      <td>124.860001</td>\n",
              "      <td>...</td>\n",
              "      <td>49.220001</td>\n",
              "      <td>51.200001</td>\n",
              "      <td>48.658298</td>\n",
              "      <td>12196600</td>\n",
              "      <td>38.389999</td>\n",
              "      <td>38.459999</td>\n",
              "      <td>37.869999</td>\n",
              "      <td>38.410000</td>\n",
              "      <td>38.410000</td>\n",
              "      <td>8924300</td>\n",
              "    </tr>\n",
              "  </tbody>\n",
              "</table>\n",
              "<p>10 rows × 81 columns</p>\n",
              "</div>"
            ],
            "text/plain": [
              "         Date        Open        High         Low       Close   Adj Close  \\\n",
              "0  2011-12-15  154.740005  154.949997  151.710007  152.330002  152.330002   \n",
              "1  2011-12-16  154.309998  155.369995  153.899994  155.229996  155.229996   \n",
              "2  2011-12-19  155.479996  155.860001  154.360001  154.869995  154.869995   \n",
              "3  2011-12-20  156.820007  157.429993  156.580002  156.979996  156.979996   \n",
              "4  2011-12-21  156.979996  157.529999  156.130005  157.160004  157.160004   \n",
              "5  2011-12-22  156.350006  156.800003  155.330002  156.039993  156.039993   \n",
              "6  2011-12-23  156.350006  156.490005  155.820007  156.309998  156.309998   \n",
              "7  2011-12-27  155.080002  155.550003  154.539993  154.910004  154.910004   \n",
              "8  2011-12-28  154.050003  154.259995  150.660004  151.029999  151.029999   \n",
              "9  2011-12-29  149.089996  150.720001  148.270004  150.339996  150.339996   \n",
              "\n",
              "     Volume     SP_open     SP_high      SP_low  ...    GDX_Low  GDX_Close  \\\n",
              "0  21521900  123.029999  123.199997  121.989998  ...  51.570000  51.680000   \n",
              "1  18124300  122.230003  122.949997  121.300003  ...  52.040001  52.680000   \n",
              "2  12547200  122.059998  122.320000  120.029999  ...  51.029999  51.169998   \n",
              "3   9136300  122.180000  124.139999  120.370003  ...  52.369999  52.990002   \n",
              "4  11996100  123.930000  124.360001  122.750000  ...  52.419998  52.959999   \n",
              "5   9888400  124.629997  125.400002  124.230003  ...  51.770000  52.400002   \n",
              "6   3565100  125.669998  126.430000  125.410004  ...  52.349998  52.790001   \n",
              "7   4918600  126.169998  126.820000  126.059998  ...  51.680000  51.869999   \n",
              "8  16436100  126.510002  126.529999  124.730003  ...  50.009998  50.060001   \n",
              "9  19812200  125.239998  126.250000  124.860001  ...  49.220001  51.200001   \n",
              "\n",
              "   GDX_Adj Close  GDX_Volume   USO_Open   USO_High    USO_Low  USO_Close  \\\n",
              "0      48.973877    20605600  36.900002  36.939999  36.049999  36.130001   \n",
              "1      49.921513    16285400  36.180000  36.500000  35.730000  36.270000   \n",
              "2      48.490578    15120200  36.389999  36.450001  35.930000  36.200001   \n",
              "3      50.215282    11644900  37.299999  37.610001  37.220001  37.560001   \n",
              "4      50.186852     8724300  37.669998  38.240002  37.520000  38.110001   \n",
              "5      49.656178    13179600  38.270000  38.549999  38.209999  38.279999   \n",
              "6      50.169365     4729000  38.470001  38.610001  38.369999  38.490002   \n",
              "7      49.295036     4786400  38.490002  39.209999  38.459999  39.060001   \n",
              "8      47.574883    14170400  38.880001  38.889999  38.189999  38.340000   \n",
              "9      48.658298    12196600  38.389999  38.459999  37.869999  38.410000   \n",
              "\n",
              "   USO_Adj Close  USO_Volume  \n",
              "0      36.130001    12616700  \n",
              "1      36.270000    12578800  \n",
              "2      36.200001     7418200  \n",
              "3      37.560001    10041600  \n",
              "4      38.110001    10728000  \n",
              "5      38.279999     5376800  \n",
              "6      38.490002     2162200  \n",
              "7      39.060001     7834100  \n",
              "8      38.340000     5654300  \n",
              "9      38.410000     8924300  \n",
              "\n",
              "[10 rows x 81 columns]"
            ]
          },
          "execution_count": 495,
          "metadata": {},
          "output_type": "execute_result"
        }
      ],
      "source": [
        "df = pd.read_csv(\"https://raw.githubusercontent.com/ralampay/pattern-recognition-course/master/notebooks/FINAL_USO.csv\")\n",
        "\n",
        "# This examines the first 10 rows of the data frame\n",
        "df.head(10)"
      ]
    },
    {
      "cell_type": "markdown",
      "metadata": {
        "id": "u9vrsXX4wOto"
      },
      "source": [
        "# Observing Time Series Data\n",
        "\n",
        "Since all the columns in the dataset relate to the price of gold, let's have a variable `attribute` to represent the column we want to examine. Change the value to the name of the column in the dataset and observe the resulting plot.**bold text**"
      ]
    },
    {
      "cell_type": "code",
      "execution_count": 496,
      "metadata": {
        "id": "blBn7bUFwxML"
      },
      "outputs": [],
      "source": [
        "attribute = 'Low'"
      ]
    },
    {
      "cell_type": "markdown",
      "metadata": {
        "id": "Jz4c1S2ww5mx"
      },
      "source": [
        "## Plot Time Series\n",
        "\n",
        "We then use the `attribute` variable as filter to data frame `df` and plot the graph using `.plot()`."
      ]
    },
    {
      "cell_type": "code",
      "execution_count": 497,
      "metadata": {
        "colab": {
          "base_uri": "https://localhost:8080/"
        },
        "id": "LdoezkmhxF4_",
        "outputId": "4783a8d9-21c7-47db-fb42-fc050543f268"
      },
      "outputs": [
        {
          "data": {
            "text/plain": [
              "<Axes: >"
            ]
          },
          "execution_count": 497,
          "metadata": {},
          "output_type": "execute_result"
        },
        {
          "data": {
            "image/png": "[encoded data removed]",
            "text/plain": [
              "<Figure size 640x480 with 1 Axes>"
            ]
          },
          "metadata": {},
          "output_type": "display_data"
        }
      ],
      "source": [
        "df[attribute].plot()"
      ]
    },
    {
      "cell_type": "markdown",
      "metadata": {
        "id": "IcCWNY4pxaEi"
      },
      "source": [
        "# Extracting `X` and `Y`\n",
        "\n",
        "To define our `X` dataset and labels `Y`, we first need to define a sequence length (given by variable `sequence_length`) to define the length of a single observation / pattern. For example, if `sequence_length = 5` then a single `x` observation is `5` consecutive measurements. We also define a function `sliding_window()` which accepts the entire chronological data as an array and the `sequence_length` to return two values: An array of `x` observations with length `sequence_length` and an array of `y` corresponding to the next values of each `x` observation. We would also maintain a ratio to represent how much of the `x` observations and `y` labels will belong to the training set and which ones will belong to the test set."
      ]
    },
    {
      "cell_type": "code",
      "execution_count": 498,
      "metadata": {
        "id": "ISumQy_ox4M3"
      },
      "outputs": [],
      "source": [
        "def sliding_window(data, seq_length, pred_length):\n",
        "    x = []\n",
        "    y = []\n",
        "\n",
        "    for i in range(len(data) - ((seq_length + pred_length)-1)):\n",
        "        _x = data[i:(i+seq_length)]\n",
        "        _y = data[i+seq_length:(i+seq_length)+pred_length]\n",
        "\n",
        "        x.append(_x)\n",
        "        y.append(_y)\n",
        "\n",
        "    return np.array(x), np.array(y)\n",
        "   "
      ]
    },
    {
      "cell_type": "code",
      "execution_count": 499,
      "metadata": {
        "id": "KD2xK8zVyWAR"
      },
      "outputs": [],
      "source": [
        "# Change this value to change the sequence length. Initially set to 5\n",
        "sequence_length = 5\n",
        "\n",
        "#Number of steps we predict\n",
        "prediction_length = 3\n",
        "\n",
        "# Change this value to change how much training data we would allocate. Initially set to 0.67\n",
        "ratio = 0.67"
      ]
    },
    {
      "cell_type": "markdown",
      "metadata": {
        "id": "0ZRMhenbya2X"
      },
      "source": [
        "## Prepare Training and Testing Data\n",
        "\n",
        "This splits the data into the following:\n",
        "\n",
        "\n",
        "* `train_x`: The set of observations\n",
        "* `train_y`: The predicted value of each observation\n",
        "* `test_x`: The set of test observations for prediction after training\n",
        "* `test_y`: The predicted value of each test observation for validation\n",
        "\n"
      ]
    },
    {
      "cell_type": "code",
      "execution_count": 500,
      "metadata": {
        "id": "qlhYrm6vzMvb"
      },
      "outputs": [],
      "source": [
        "data = df[attribute].values\n",
        "\n",
        "x, y = sliding_window(data, sequence_length, prediction_length)\n",
        "\n",
        "\n",
        "train_size = int(len(y) * ratio)\n",
        "test_size = len(y) - train_size\n",
        "\n",
        "# Turn them into tensors for computation later on\n",
        "data_x = Variable(torch.Tensor(np.array(x)))\n",
        "data_y = Variable(torch.Tensor(np.array(y)))\n",
        "\n",
        "train_x = Variable(torch.Tensor(np.array(x[0:train_size])))\n",
        "train_y = Variable(torch.Tensor(np.array(y[0:train_size])))\n",
        "\n",
        "test_x = Variable(torch.Tensor(np.array(x[train_size:len(x)])))\n",
        "test_y = Variable(torch.Tensor(np.array(y[train_size:len(y)])))\n"
      ]
    },
    {
      "cell_type": "markdown",
      "metadata": {
        "id": "KgpkGHtlzwIq"
      },
      "source": [
        "# Multilayer Perceptron\n",
        "\n",
        "This algorithm is an example of a fully connected neural network implemented in Pytorch. It is a rather simple implementation with only a set of neurons for the input layer, another set of neurons for the hidden layer and another set for the output layer. To configure the network, define the following parameters:\n",
        "* `input_size`: The dimensionality of the input layer\n",
        "* `hidden_size`: The dimensionality of the hidden layer\n",
        "* `output_size`: The dimensionality of `y` in the output layer\n",
        "\n",
        "To change the activation functions of the model, you can refer to this documentation:\n",
        "\n",
        "https://pytorch.org/docs/stable/nn.functional.html\n",
        "\n",
        "For more information about how `nn.Linear` works, check the following documentation:\n",
        "\n",
        "https://pytorch.org/docs/stable/generated/torch.nn.Linear.html"
      ]
    },
    {
      "cell_type": "code",
      "execution_count": 505,
      "metadata": {
        "id": "jGhR38-80NCr"
      },
      "outputs": [],
      "source": [
        "class MultiLayerPerceptron(nn.Module):\n",
        "    def __init__(self, input_size, hidden_size, output_size):\n",
        "        super().__init__()\n",
        "\n",
        "        self.hidden = nn.Linear(input_size, hidden_size)\n",
        "        self.output = nn.Linear(hidden_size, output_size)\n",
        "\n",
        "    def forward(self, x):\n",
        "        # f(x) = a(f(x))\n",
        "        x = F.relu(self.hidden(x))\n",
        "        y = F.relu(self.output(x))\n",
        "        return y\n",
        "\n",
        "    #Using tanh as the activation function\n",
        "    def forwardTanh(self, x):\n",
        "        x = torch.tanh(self.hidden(x))      \n",
        "        y = torch.tanh(self.output(x))  \n",
        "            \n",
        "        return y\n",
        "\n",
        "    #Using sigmoid as the activation function\n",
        "    def forwardSigmoid(self, x):\n",
        "        x = torch.sigmoid(self.hidden(x))  \n",
        "        y = torch.sigmoid(self.output(x))  \n",
        "\n",
        "        return y"
      ]
    },
    {
      "cell_type": "markdown",
      "metadata": {
        "id": "4KLIjEW43B2C"
      },
      "source": [
        "# Model Configuration\n",
        "\n",
        "Change these values before instantiating the multilayer perceptron model."
      ]
    },
    {
      "cell_type": "code",
      "execution_count": 506,
      "metadata": {
        "id": "rSwxTaD43IfM"
      },
      "outputs": [],
      "source": [
        "# Since each observation's dimensionality is defined by seequence_length, let's use that value\n",
        "input_size = sequence_length\n",
        "\n",
        "# Hidden size\n",
        "hidden_size = 25\n",
        "\n",
        "# Output size (number of classes)\n",
        "output_size = 1\n",
        "\n",
        "# Instantiate the model\n",
        "model = MultiLayerPerceptron(input_size, hidden_size, output_size)"
      ]
    },
    {
      "cell_type": "markdown",
      "metadata": {
        "id": "rOUQIgib2AaQ"
      },
      "source": [
        "# Training\n",
        "\n",
        "To train an instance of the `MultilayerPerceptron`, we'll first have to define some training parameters:\n",
        "* `epochs`: How many times it would iterate against the dataset to optimize `W`\n",
        "* `learning_rate`: How aggressive we want to look for a local minimum value.\n",
        "* `criterion`: The loss function for training\n",
        "* `optimizer`: Our problem solver to minimize `W`"
      ]
    },
    {
      "cell_type": "code",
      "execution_count": 507,
      "metadata": {
        "id": "IeP8eWwg26WR"
      },
      "outputs": [],
      "source": [
        "# Change this to shorted or lengthen training time\n",
        "epochs = 100\n",
        "\n",
        "# Change this to modify the learning rate of the optimizer\n",
        "learning_rate = 0.01\n",
        "\n",
        "# Change this to a loss function implementation. Initially we'll use MSE\n",
        "criterion = torch.nn.MSELoss()\n",
        "\n",
        "# Change this to define the optimizer\n",
        "optimizer = torch.optim.Adam(model.parameters(), lr=learning_rate)"
      ]
    },
    {
      "cell_type": "markdown",
      "metadata": {
        "id": "J4l3hUSK4Ckl"
      },
      "source": [
        "### The Actual Training Process"
      ]
    },
    {
      "cell_type": "code",
      "execution_count": 508,
      "metadata": {
        "colab": {
          "base_uri": "https://localhost:8080/"
        },
        "id": "0UW9m1ge4H7E",
        "outputId": "0422bf48-ddde-496a-82f9-d831b83c20fd"
      },
      "outputs": [
        {
          "name": "stdout",
          "output_type": "stream",
          "text": [
            "Epoch: 0, loss: 8606.42383\n",
            "Epoch: 1, loss: 6000.17578\n",
            "Epoch: 2, loss: 3812.74487\n",
            "Epoch: 3, loss: 2087.54395\n",
            "Epoch: 4, loss: 865.55743\n",
            "Epoch: 5, loss: 177.36777\n",
            "Epoch: 6, loss: 11.87650\n",
            "Epoch: 7, loss: 267.83456\n",
            "Epoch: 8, loss: 734.24634\n",
            "Epoch: 9, loss: 1154.14526\n",
            "Epoch: 10, loss: 1357.79834\n",
            "Epoch: 11, loss: 1313.22656\n",
            "Epoch: 12, loss: 1083.61804\n",
            "Epoch: 13, loss: 766.54187\n",
            "Epoch: 14, loss: 452.63779\n",
            "Epoch: 15, loss: 205.56413\n",
            "Epoch: 16, loss: 56.29564\n",
            "Epoch: 17, loss: 6.26265\n",
            "Epoch: 18, loss: 35.59609\n",
            "Epoch: 19, loss: 113.36333\n",
            "Epoch: 20, loss: 207.06897\n",
            "Epoch: 21, loss: 289.54916\n",
            "Epoch: 22, loss: 342.63895\n",
            "Epoch: 23, loss: 358.04233\n",
            "Epoch: 24, loss: 336.32434\n",
            "Epoch: 25, loss: 284.88803\n",
            "Epoch: 26, loss: 215.52669\n",
            "Epoch: 27, loss: 141.86343\n",
            "Epoch: 28, loss: 76.85200\n",
            "Epoch: 29, loss: 30.50875\n",
            "Epoch: 30, loss: 8.14495\n",
            "Epoch: 31, loss: 9.46240\n",
            "Epoch: 32, loss: 28.86663\n",
            "Epoch: 33, loss: 57.11300\n",
            "Epoch: 34, loss: 83.95792\n",
            "Epoch: 35, loss: 101.02636\n",
            "Epoch: 36, loss: 103.93427\n",
            "Epoch: 37, loss: 92.98267\n",
            "Epoch: 38, loss: 72.33926\n",
            "Epoch: 39, loss: 48.19448\n",
            "Epoch: 40, loss: 26.65417\n",
            "Epoch: 41, loss: 12.06718\n",
            "Epoch: 42, loss: 6.18267\n",
            "Epoch: 43, loss: 8.19344\n",
            "Epoch: 44, loss: 15.45036\n",
            "Epoch: 45, loss: 24.50537\n",
            "Epoch: 46, loss: 32.14080\n",
            "Epoch: 47, loss: 36.13450\n",
            "Epoch: 48, loss: 35.63593\n",
            "Epoch: 49, loss: 31.14301\n",
            "Epoch: 50, loss: 24.15732\n",
            "Epoch: 51, loss: 16.64435\n",
            "Epoch: 52, loss: 10.44890\n",
            "Epoch: 53, loss: 6.81020\n",
            "Epoch: 54, loss: 6.09261\n",
            "Epoch: 55, loss: 7.78855\n",
            "Epoch: 56, loss: 10.77602\n",
            "Epoch: 57, loss: 13.73442\n",
            "Epoch: 58, loss: 15.57575\n",
            "Epoch: 59, loss: 15.74940\n",
            "Epoch: 60, loss: 14.33322\n",
            "Epoch: 61, loss: 11.90762\n",
            "Epoch: 62, loss: 9.28578\n",
            "Epoch: 63, loss: 7.21274\n",
            "Epoch: 64, loss: 6.13846\n",
            "Epoch: 65, loss: 6.12595\n",
            "Epoch: 66, loss: 6.89962\n",
            "Epoch: 67, loss: 7.99213\n",
            "Epoch: 68, loss: 8.92534\n",
            "Epoch: 69, loss: 9.36263\n",
            "Epoch: 70, loss: 9.19094\n",
            "Epoch: 71, loss: 8.51846\n",
            "Epoch: 72, loss: 7.60324\n",
            "Epoch: 73, loss: 6.74492\n",
            "Epoch: 74, loss: 6.17928\n",
            "Epoch: 75, loss: 6.00919\n",
            "Epoch: 76, loss: 6.19004\n",
            "Epoch: 77, loss: 6.56741\n",
            "Epoch: 78, loss: 6.94732\n",
            "Epoch: 79, loss: 7.17011\n",
            "Epoch: 80, loss: 7.16111\n",
            "Epoch: 81, loss: 6.94305\n",
            "Epoch: 82, loss: 6.61162\n",
            "Epoch: 83, loss: 6.28830\n",
            "Epoch: 84, loss: 6.07209\n",
            "Epoch: 85, loss: 6.00730\n",
            "Epoch: 86, loss: 6.07691\n",
            "Epoch: 87, loss: 6.21929\n",
            "Epoch: 88, loss: 6.35833\n",
            "Epoch: 89, loss: 6.43360\n",
            "Epoch: 90, loss: 6.41968\n",
            "Epoch: 91, loss: 6.32950\n",
            "Epoch: 92, loss: 6.20295\n",
            "Epoch: 93, loss: 6.08735\n",
            "Epoch: 94, loss: 6.01843\n",
            "Epoch: 95, loss: 6.00860\n",
            "Epoch: 96, loss: 6.04604\n",
            "Epoch: 97, loss: 6.10325\n",
            "Epoch: 98, loss: 6.15022\n",
            "Epoch: 99, loss: 6.16660\n"
          ]
        },
        {
          "name": "stderr",
          "output_type": "stream",
          "text": [
            "c:\\Users\\Renzo Rodillas\\AppData\\Local\\Programs\\Python\\Python39\\lib\\site-packages\\torch\\nn\\modules\\loss.py:536: UserWarning: Using a target size (torch.Size([1146, 3])) that is different to the input size (torch.Size([1146, 1])). This will likely lead to incorrect results due to broadcasting. Please ensure they have the same size.\n",
            "  return F.mse_loss(input, target, reduction=self.reduction)\n"
          ]
        }
      ],
      "source": [
        "for epoch in range(epochs):\n",
        "    outputs = model.forward(train_x)\n",
        "\n",
        "    optimizer.zero_grad()\n",
        "\n",
        "    # obtain the loss function\n",
        "    loss = criterion(outputs, train_y)\n",
        "\n",
        "    loss.backward()\n",
        "\n",
        "    optimizer.step()\n",
        "\n",
        "    print(\"Epoch: %d, loss: %1.5f\" % (epoch, loss.item()))"
      ]
    },
    {
      "cell_type": "markdown",
      "metadata": {
        "id": "4sUQ1j4e5a32"
      },
      "source": [
        "# Predictions\n",
        "\n",
        "We then call `model.eval()` to freeze `W` and attempt to predict `test_y`."
      ]
    },
    {
      "cell_type": "code",
      "execution_count": 509,
      "metadata": {
        "colab": {
          "base_uri": "https://localhost:8080/"
        },
        "id": "Xx2N-v3F5g4L",
        "outputId": "1b7f1548-7bbd-482e-e578-638c958bef0f"
      },
      "outputs": [
        {
          "data": {
            "text/plain": [
              "array([125.67389 , 125.532196, 125.509895, 125.30169 , 125.75358 ,\n",
              "       126.4355  , 126.784065, 127.252914, 127.209984, 126.85318 ,\n",
              "       126.420296, 125.870514, 125.20012 , 123.75541 , 122.85934 ,\n",
              "       121.28265 , 119.93775 , 119.82622 , 119.42872 , 119.511345,\n",
              "       119.851395, 119.672676, 119.79071 , 119.9813  , 120.27261 ,\n",
              "       120.446724, 120.68178 , 120.794914, 120.86033 , 120.76543 ,\n",
              "       120.86718 , 121.15111 , 121.760284, 122.314   , 122.88593 ,\n",
              "       123.550964, 123.10632 , 122.7811  , 122.11351 , 120.58901 ,\n",
              "       119.058846, 118.353584, 117.066345, 116.00361 , 116.00139 ,\n",
              "       115.79896 , 115.162704, 114.35223 , 114.00478 , 113.43286 ,\n",
              "       112.741394, 112.32748 , 112.086   , 111.891594, 111.15914 ,\n",
              "       111.38167 , 111.54315 , 111.29108 , 111.2192  , 111.126076,\n",
              "       110.55119 , 109.64707 , 108.993774, 108.58915 , 108.08457 ,\n",
              "       107.66626 , 107.96801 , 107.92111 , 107.88257 , 108.10414 ,\n",
              "       108.28051 , 108.768486, 109.09242 , 109.42301 , 110.20333 ,\n",
              "       110.81136 , 111.163765, 111.98409 , 112.37757 , 112.46367 ,\n",
              "       113.11637 , 113.312004, 114.169685, 114.34251 , 114.50175 ,\n",
              "       114.91884 , 114.84017 , 114.71455 , 114.53097 , 114.30782 ,\n",
              "       114.18488 , 114.18097 , 114.1693  , 115.08785 , 115.505684,\n",
              "       116.00259 , 116.69128 , 117.16246 , 117.36197 , 117.339966,\n",
              "       117.12252 , 116.84239 , 116.70893 , 117.098145, 117.179634,\n",
              "       117.29742 , 117.77336 , 118.06055 , 118.32361 , 118.800514,\n",
              "       119.098434, 118.83339 , 118.33173 , 117.72645 , 117.21836 ,\n",
              "       116.50837 , 115.99456 , 115.512375, 114.986855, 114.736916,\n",
              "       114.43907 , 114.62995 , 115.43768 , 115.74766 , 116.58138 ,\n",
              "       117.54374 , 117.991936, 118.209335, 118.61925 , 118.98237 ,\n",
              "       118.89691 , 119.09532 , 118.99822 , 118.921616, 118.94292 ,\n",
              "       118.970314, 118.89066 , 119.188225, 119.205025, 119.172935,\n",
              "       119.82719 , 120.30694 , 120.97708 , 121.603165, 121.90234 ,\n",
              "       121.94764 , 121.90414 , 121.73903 , 121.337135, 121.110374,\n",
              "       120.77263 , 120.403206, 120.24337 , 119.97116 , 119.81112 ,\n",
              "       119.121994, 118.32246 , 117.82055 , 117.10092 , 116.49244 ,\n",
              "       116.48501 , 116.38796 , 116.43085 , 116.76523 , 117.29299 ,\n",
              "       118.05177 , 118.25584 , 118.889984, 119.353485, 119.16518 ,\n",
              "       119.3536  , 119.560005, 119.73929 , 119.85629 , 120.23528 ,\n",
              "       120.45425 , 120.799194, 121.18149 , 121.77063 , 121.95962 ,\n",
              "       121.88065 , 121.65702 , 121.075615, 120.53446 , 120.18529 ,\n",
              "       119.897285, 119.630714, 119.15017 , 118.88861 , 118.71588 ,\n",
              "       118.6461  , 118.78459 , 118.6793  , 118.93407 , 118.851524,\n",
              "       118.45238 , 118.3246  , 117.55786 , 117.145515, 116.63493 ,\n",
              "       115.75301 , 115.66409 , 115.49101 , 115.45668 , 115.61884 ,\n",
              "       116.20236 , 116.739944, 117.206894, 117.63486 , 117.96666 ,\n",
              "       118.45774 , 118.6384  , 118.78322 , 119.08443 , 119.35395 ,\n",
              "       119.58415 , 119.91285 , 120.326256, 120.57031 , 120.52726 ,\n",
              "       120.177986, 120.03785 , 119.791504, 120.190216, 120.737274,\n",
              "       121.20769 , 121.75127 , 121.78228 , 121.92659 , 121.84124 ,\n",
              "       122.00859 , 122.226135, 122.45355 , 122.33848 , 122.19194 ,\n",
              "       122.83839 , 123.06988 , 123.54185 , 124.38043 , 124.92158 ,\n",
              "       125.56088 , 126.03935 , 126.809425, 127.179955, 126.927505,\n",
              "       126.911804, 126.43278 , 126.01029 , 125.70381 , 125.16662 ,\n",
              "       124.90783 , 124.17847 , 123.581535, 123.40974 , 123.0414  ,\n",
              "       122.94352 , 122.69629 , 122.52707 , 122.15176 , 121.60529 ,\n",
              "       121.39487 , 120.96995 , 120.69274 , 121.15319 , 121.36688 ,\n",
              "       121.7048  , 122.49553 , 122.85443 , 122.69224 , 122.643425,\n",
              "       122.53335 , 122.232506, 121.803   , 121.68134 , 121.57237 ,\n",
              "       121.20376 , 120.89919 , 120.80285 , 120.665634, 120.578   ,\n",
              "       120.777596, 120.86625 , 120.78175 , 120.99616 , 120.987526,\n",
              "       121.183525, 121.40297 , 121.43137 , 121.61728 , 121.378845,\n",
              "       121.3663  , 121.44504 , 121.58084 , 121.5432  , 121.802956,\n",
              "       121.99628 , 122.03561 , 122.44429 , 122.559906, 122.33175 ,\n",
              "       121.97312 , 121.64463 , 121.13347 , 120.58177 , 120.38908 ,\n",
              "       119.62401 , 119.20673 , 118.62925 , 118.13576 , 118.2532  ,\n",
              "       118.342186, 118.62171 , 119.160324, 119.46919 , 119.78151 ,\n",
              "       120.05208 , 120.38389 , 120.88827 , 121.36338 , 122.06322 ,\n",
              "       122.81512 , 123.44617 , 123.91068 , 124.52291 , 124.78035 ,\n",
              "       124.84994 , 124.86535 , 125.01599 , 125.13514 , 125.38942 ,\n",
              "       125.8463  , 126.02155 , 126.258606, 126.4354  , 126.33431 ,\n",
              "       126.62469 , 127.251175, 127.16588 , 127.395706, 127.48003 ,\n",
              "       127.0963  , 127.021774, 126.674126, 126.67199 , 126.165665,\n",
              "       125.63199 , 125.357925, 124.90548 , 124.98261 , 125.25604 ,\n",
              "       125.835014, 126.67892 , 126.93085 , 126.95743 , 126.9118  ,\n",
              "       126.49977 , 126.06496 , 126.00009 , 125.665016, 125.50809 ,\n",
              "       124.95089 , 124.909325, 124.91949 , 125.280876, 125.50532 ,\n",
              "       125.589874, 125.54603 , 125.30003 , 125.24086 , 125.23769 ,\n",
              "       125.1068  , 125.012115, 124.88699 , 124.588196, 124.84532 ,\n",
              "       125.26462 , 126.14184 , 126.83234 , 127.09442 , 127.04451 ,\n",
              "       126.73359 , 126.39656 , 126.031685, 126.228584, 126.20856 ,\n",
              "       126.31339 , 126.31695 , 126.52575 , 127.00113 , 126.91626 ,\n",
              "       127.3526  , 127.47106 , 127.26011 , 127.63468 , 127.47134 ,\n",
              "       127.16955 , 126.77194 , 126.38181 , 125.76477 , 125.41555 ,\n",
              "       125.35927 , 124.81477 , 124.49666 , 124.37713 , 124.15423 ,\n",
              "       124.04833 , 124.27826 , 124.28999 , 124.4272  , 124.59811 ,\n",
              "       124.672005, 124.5813  , 123.96613 , 123.56805 , 122.859535,\n",
              "       122.283714, 122.27781 , 122.36235 , 122.40166 , 122.76626 ,\n",
              "       122.90939 , 122.98867 , 123.330666, 123.20949 , 122.991264,\n",
              "       122.9817  , 122.79255 , 122.72252 , 122.76396 , 122.91523 ,\n",
              "       123.041405, 122.993034, 123.043625, 123.00609 , 122.22678 ,\n",
              "       122.106094, 121.53791 , 120.78792 , 120.588905, 120.40913 ,\n",
              "       120.115364, 119.79373 , 119.47219 , 119.02377 , 118.644455,\n",
              "       118.23228 , 118.41294 , 118.49393 , 118.60961 , 119.01326 ,\n",
              "       118.89909 , 118.64872 , 118.54595 , 118.048256, 117.68707 ,\n",
              "       117.236115, 116.78616 , 116.294334, 116.167244, 115.92516 ,\n",
              "       116.05724 , 116.285904, 116.10221 , 116.15461 , 116.05218 ,\n",
              "       115.82051 , 115.617294, 115.31006 , 115.18765 , 114.843185,\n",
              "       114.752594, 114.75129 , 114.728775, 114.61304 , 114.123695,\n",
              "       113.80524 , 112.82849 , 112.35078 , 112.21475 , 112.11466 ,\n",
              "       112.52009 , 112.63601 , 113.164444, 113.433395, 113.44889 ,\n",
              "       113.91636 , 113.85189 , 113.710434, 113.439255, 113.4144  ,\n",
              "       113.33942 , 113.200554, 113.28197 , 113.120186, 113.22394 ,\n",
              "       113.268906, 113.20598 , 113.577225, 113.56029 , 113.669235,\n",
              "       113.76641 , 113.5502  , 113.764694, 113.58454 , 113.16465 ,\n",
              "       113.00514 , 112.783226, 112.512314, 112.73022 , 112.965515,\n",
              "       113.21848 , 113.007706, 112.92307 , 112.82522 , 113.13724 ,\n",
              "       113.82518 , 114.7174  , 115.45841 , 115.84058 , 116.00445 ,\n",
              "       116.00436 , 115.9169  , 116.18099 , 116.17575 , 116.29785 ,\n",
              "       116.49394 , 116.28851 , 116.154274, 115.86228 , 116.031296,\n",
              "       115.97868 , 116.06722 , 116.31746 , 116.281235, 115.903656,\n",
              "       115.31399 , 114.8961  , 114.34579 , 113.972206, 114.212875,\n",
              "       114.57166 , 114.95778 , 115.45901 , 115.776436, 115.749115,\n",
              "       115.74223 , 115.49415 , 115.378654, 115.38513 , 115.23134 ,\n",
              "       115.848724, 116.29439 , 116.616394, 117.2484  , 117.4272  ,\n",
              "       117.56581 , 117.72253 , 117.5445  , 117.40498 , 117.56902 ,\n",
              "       117.51959 , 117.59217 , 118.22151 , 118.434875, 118.954796],\n",
              "      dtype=float32)"
            ]
          },
          "execution_count": 509,
          "metadata": {},
          "output_type": "execute_result"
        }
      ],
      "source": [
        "model.eval()\n",
        "predictions = model(test_x).detach().numpy()\n",
        "\n",
        "predictions = predictions.ravel()\n",
        "\n",
        "predictions"
      ]
    },
    {
      "cell_type": "markdown",
      "metadata": {
        "id": "oi4UTcKo5okL"
      },
      "source": [
        "## Observe the Predicted Values\n",
        "\n",
        "Let's plot both `test_y` and `predictions` to see how far they are from each other."
      ]
    },
    {
      "cell_type": "code",
      "execution_count": 510,
      "metadata": {
        "colab": {
          "base_uri": "https://localhost:8080/",
          "height": 54
        },
        "id": "pgi_9rJS5vQ6",
        "outputId": "b162d893-d8bb-4fe3-9028-48cc2b58b57f"
      },
      "outputs": [
        {
          "data": {
            "image/png": "[encoded data removed]",
            "text/plain": [
              "<Figure size 640x480 with 1 Axes>"
            ]
          },
          "metadata": {},
          "output_type": "display_data"
        }
      ],
      "source": [
        "x_axis_values = np.arange(0,len(predictions))\n",
        "\n",
        "plt.title(\"Predictions\")\n",
        "plt.xlabel(\"t\")\n",
        "plt.ylabel(attribute)\n",
        "plt.plot(x_axis_values, predictions)\n",
        "plt.plot(x_axis_values, test_y)\n",
        "plt.show()"
      ]
    }
  ],
  "metadata": {
    "colab": {
      "provenance": []
    },
    "kernelspec": {
      "display_name": "Python 3",
      "name": "python3"
    },
    "language_info": {
      "codemirror_mode": {
        "name": "ipython",
        "version": 3
      },
      "file_extension": ".py",
      "mimetype": "text/x-python",
      "name": "python",
      "nbconvert_exporter": "python",
      "pygments_lexer": "ipython3",
      "version": "3.9.7"
    }
  },
  "nbformat": 4,
  "nbformat_minor": 0
}
