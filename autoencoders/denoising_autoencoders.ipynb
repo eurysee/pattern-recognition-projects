{
 "cells": [
  {
   "cell_type": "code",
   "execution_count": 2,
   "metadata": {},
   "outputs": [
    {
     "name": "stderr",
     "output_type": "stream",
     "text": [
      "/Users/eurysee/Desktop/Pattern Recognition/.venv/lib/python3.9/site-packages/urllib3/__init__.py:35: NotOpenSSLWarning: urllib3 v2 only supports OpenSSL 1.1.1+, currently the 'ssl' module is compiled with 'LibreSSL 2.8.3'. See: https://github.com/urllib3/urllib3/issues/3020\n",
      "  warnings.warn(\n"
     ]
    }
   ],
   "source": [
    "import os\n",
    "import cv2 as cv\n",
    "import numpy as np\n",
    "from sklearn.model_selection import train_test_split\n",
    "from tensorflow.keras.layers import Input, Conv2D, MaxPooling2D, UpSampling2D\n",
    "from tensorflow.keras.models import Model\n",
    "import tensorflow as tf"
   ]
  },
  {
   "cell_type": "code",
   "execution_count": 3,
   "metadata": {},
   "outputs": [
    {
     "name": "stdout",
     "output_type": "stream",
     "text": [
      "Loaded images shape: (4273, 64, 64, 1)\n"
     ]
    }
   ],
   "source": [
    "def PSNR(original, compressed):\n",
    "    mse = np.mean((original - compressed) ** 2)\n",
    "    if mse == 0:\n",
    "        return 100\n",
    "    max_pixel = 1.0  # normalized images\n",
    "    psnr = 20 * np.log10(max_pixel / np.sqrt(mse))\n",
    "    return psnr\n",
    "\n",
    "def load_images_from_folder(foldername, target_size=(64, 64)):\n",
    "    images = []\n",
    "    for filename in os.listdir(foldername):\n",
    "        img = cv.imread(os.path.join(foldername, filename), cv.IMREAD_GRAYSCALE)\n",
    "        if img is not None:\n",
    "            img = cv.resize(img, target_size)  \n",
    "            images.append(img)\n",
    "    images = np.array(images).astype('float32') / 255.\n",
    "    images = np.expand_dims(images, axis=-1)\n",
    "    return images\n",
    "\n",
    "images = load_images_from_folder(\"pneumonia\")\n",
    "print(\"Loaded images shape:\", images.shape)"
   ]
  },
  {
   "cell_type": "code",
   "execution_count": 11,
   "metadata": {},
   "outputs": [
    {
     "name": "stdout",
     "output_type": "stream",
     "text": [
      "Data prepared and split.\n"
     ]
    }
   ],
   "source": [
    "def add_poisson_noise(images, lam):\n",
    "    noisy = np.random.poisson(images * lam) / lam\n",
    "    noisy = np.clip(noisy, 0., 1.)\n",
    "    return noisy\n",
    "\n",
    "lam_values = [25, 50, 75]\n",
    "noisy_images = {lam: add_poisson_noise(images, lam) for lam in lam_values}\n",
    "\n",
    "x_train, x_test = train_test_split(images, test_size=0.2, random_state=42)\n",
    "train_noisy = {}\n",
    "test_noisy = {}\n",
    "for lam in lam_values:\n",
    "    train_noisy[lam], test_noisy[lam] = train_test_split(noisy_images[lam], test_size=0.2, random_state=42)\n",
    "\n",
    "print(\"Data prepared and split.\")"
   ]
  },
  {
   "cell_type": "code",
   "execution_count": 12,
   "metadata": {},
   "outputs": [],
   "source": [
    "def build_autoencoder():\n",
    "    input_img = Input(shape=(64, 64, 1))  \n",
    "    x = Conv2D(32, (3, 3), activation='relu', padding='same')(input_img)\n",
    "    x = MaxPooling2D((2, 2), padding='same')(x)\n",
    "    x = Conv2D(64, (3, 3), activation='relu', padding='same')(x)\n",
    "    encoded = MaxPooling2D((2, 2), padding='same')(x)\n",
    "\n",
    "    x = Conv2D(64, (3, 3), activation='relu', padding='same')(encoded)\n",
    "    x = UpSampling2D((2, 2))(x)\n",
    "    x = Conv2D(32, (3, 3), activation='relu', padding='same')(x)\n",
    "    x = UpSampling2D((2, 2))(x)\n",
    "    decoded = Conv2D(1, (3, 3), activation='sigmoid', padding='same')(x)\n",
    "    model = Model(input_img, decoded)\n",
    "    model.compile(optimizer='adam', loss='mse')\n",
    "    return model"
   ]
  },
  {
   "cell_type": "code",
   "execution_count": 13,
   "metadata": {},
   "outputs": [],
   "source": [
    "def build_autoencoder():\n",
    "    input_img = Input(shape=(64, 64, 1))  \n",
    "    x = Conv2D(32, (3, 3), activation='relu', padding='same')(input_img)\n",
    "    x = MaxPooling2D((2, 2), padding='same')(x)\n",
    "    x = Conv2D(64, (3, 3), activation='relu', padding='same')(x)\n",
    "    encoded = MaxPooling2D((2, 2), padding='same')(x)\n",
    "\n",
    "    x = Conv2D(64, (3, 3), activation='relu', padding='same')(encoded)\n",
    "    x = UpSampling2D((2, 2))(x)\n",
    "    x = Conv2D(32, (3, 3), activation='relu', padding='same')(x)\n",
    "    x = UpSampling2D((2, 2))(x)\n",
    "    decoded = Conv2D(1, (3, 3), activation='sigmoid', padding='same')(x)\n",
    "    model = Model(input_img, decoded)\n",
    "    model.compile(optimizer='adam', loss='mse')\n",
    "    return model"
   ]
  },
  {
   "cell_type": "code",
   "execution_count": 14,
   "metadata": {},
   "outputs": [
    {
     "name": "stdout",
     "output_type": "stream",
     "text": [
      "\n",
      "Training autoencoder for noise lambda=25...\n",
      "Epoch 1/5\n",
      "27/27 - 13s - 467ms/step - loss: 0.0251 - val_loss: 0.0100\n",
      "Epoch 2/5\n",
      "27/27 - 11s - 409ms/step - loss: 0.0074 - val_loss: 0.0061\n",
      "Epoch 3/5\n",
      "27/27 - 10s - 360ms/step - loss: 0.0056 - val_loss: 0.0050\n",
      "Epoch 4/5\n",
      "27/27 - 9s - 342ms/step - loss: 0.0048 - val_loss: 0.0048\n",
      "Epoch 5/5\n",
      "27/27 - 10s - 363ms/step - loss: 0.0046 - val_loss: 0.0044\n",
      "\u001b[1m27/27\u001b[0m \u001b[32m━━━━━━━━━━━━━━━━━━━━\u001b[0m\u001b[37m\u001b[0m \u001b[1m1s\u001b[0m 44ms/step\n",
      "Average PSNR for lambda=25: 23.76 dB\n",
      "\n",
      "Training autoencoder for noise lambda=50...\n",
      "Epoch 1/5\n",
      "27/27 - 10s - 374ms/step - loss: 0.0313 - val_loss: 0.0163\n",
      "Epoch 2/5\n",
      "27/27 - 9s - 324ms/step - loss: 0.0096 - val_loss: 0.0068\n",
      "Epoch 3/5\n",
      "27/27 - 11s - 407ms/step - loss: 0.0060 - val_loss: 0.0054\n",
      "Epoch 4/5\n",
      "27/27 - 9s - 347ms/step - loss: 0.0049 - val_loss: 0.0045\n",
      "Epoch 5/5\n",
      "27/27 - 9s - 323ms/step - loss: 0.0042 - val_loss: 0.0040\n",
      "\u001b[1m27/27\u001b[0m \u001b[32m━━━━━━━━━━━━━━━━━━━━\u001b[0m\u001b[37m\u001b[0m \u001b[1m1s\u001b[0m 24ms/step\n",
      "Average PSNR for lambda=50: 24.30 dB\n",
      "\n",
      "Training autoencoder for noise lambda=75...\n",
      "Epoch 1/5\n",
      "27/27 - 10s - 384ms/step - loss: 0.0283 - val_loss: 0.0099\n",
      "Epoch 2/5\n",
      "27/27 - 9s - 332ms/step - loss: 0.0079 - val_loss: 0.0064\n",
      "Epoch 3/5\n",
      "27/27 - 9s - 342ms/step - loss: 0.0055 - val_loss: 0.0049\n",
      "Epoch 4/5\n",
      "27/27 - 11s - 415ms/step - loss: 0.0045 - val_loss: 0.0042\n",
      "Epoch 5/5\n",
      "27/27 - 13s - 472ms/step - loss: 0.0045 - val_loss: 0.0042\n",
      "\u001b[1m27/27\u001b[0m \u001b[32m━━━━━━━━━━━━━━━━━━━━\u001b[0m\u001b[37m\u001b[0m \u001b[1m1s\u001b[0m 24ms/step\n",
      "Average PSNR for lambda=75: 24.18 dB\n"
     ]
    }
   ],
   "source": [
    "results = {}\n",
    "for lam in lam_values:\n",
    "    print(f\"\\nTraining autoencoder for noise lambda={lam}...\")\n",
    "    model = build_autoencoder()\n",
    "    model.fit(train_noisy[lam], x_train,\n",
    "              epochs=5,\n",
    "              batch_size=128,\n",
    "              shuffle=True,\n",
    "              validation_data=(test_noisy[lam], x_test),\n",
    "              verbose=2)\n",
    "    \n",
    "    decoded_imgs = model.predict(test_noisy[lam])\n",
    "    psnr_scores = [PSNR(x_test[i], decoded_imgs[i]) for i in range(len(x_test))]\n",
    "    avg_psnr = np.mean(psnr_scores)\n",
    "    print(f\"Average PSNR for lambda={lam}: {avg_psnr:.2f} dB\")\n",
    "    results[lam] = avg_psnr\n"
   ]
  },
  {
   "cell_type": "code",
   "execution_count": 15,
   "metadata": {},
   "outputs": [],
   "source": [
    "# Classical filters + evaluation helper\n",
    "def evaluate_filter(test_noisy_images, test_clean_images, filter_func):\n",
    "    psnr_vals = []\n",
    "    for noisy_img, clean_img in zip(test_noisy_images, test_clean_images):\n",
    "        denoised_img = filter_func(noisy_img)\n",
    "        psnr_vals.append(PSNR(clean_img, denoised_img))\n",
    "    return np.mean(psnr_vals)\n",
    "\n",
    "def mean_blur(img):\n",
    "    return cv.blur(img, (3, 3))\n",
    "\n",
    "def median_blur(img):\n",
    "    img_uint8 = (img * 255).astype(np.uint8)\n",
    "    med = cv.medianBlur(img_uint8, 3)\n",
    "    return med.astype(np.float32) / 255.\n",
    "\n",
    "def bilateral_filter(img):\n",
    "    img_uint8 = (img * 255).astype(np.uint8)\n",
    "    bilateral = cv.bilateralFilter(img_uint8, 5, 75, 75)\n",
    "    return bilateral.astype(np.float32) / 255.\n",
    "\n",
    "def gaussian_blur(img):\n",
    "    return cv.GaussianBlur(img, (3, 3), 0)"
   ]
  },
  {
   "cell_type": "code",
   "execution_count": null,
   "metadata": {},
   "outputs": [
    {
     "name": "stdout",
     "output_type": "stream",
     "text": [
      "\n",
      "Evaluating classical filters for lambda=25:\n",
      "Mean Blur PSNR: 10.38 dB\n",
      "Median Blur PSNR: 10.21 dB\n",
      "Bilateral Filter PSNR: 10.33 dB\n",
      "Gaussian Blur PSNR: 10.33 dB\n",
      "\n",
      "Evaluating classical filters for lambda=50:\n",
      "Mean Blur PSNR: 10.40 dB\n",
      "Median Blur PSNR: 10.30 dB\n",
      "Bilateral Filter PSNR: 10.40 dB\n",
      "Gaussian Blur PSNR: 10.36 dB\n",
      "\n",
      "Evaluating classical filters for lambda=75:\n",
      "Mean Blur PSNR: 10.41 dB\n",
      "Median Blur PSNR: 10.32 dB\n",
      "Bilateral Filter PSNR: 10.42 dB\n",
      "Gaussian Blur PSNR: 10.38 dB\n"
     ]
    }
   ],
   "source": [
    "# Evaluate filters\n",
    "for lam in lam_values:\n",
    "    print(f\"\\nEvaluating classical filters for lambda={lam}:\")\n",
    "    mean_psnr = evaluate_filter(test_noisy[lam], x_test, mean_blur)\n",
    "    median_psnr = evaluate_filter(test_noisy[lam], x_test, median_blur)\n",
    "    bilateral_psnr = evaluate_filter(test_noisy[lam], x_test, bilateral_filter)\n",
    "    gaussian_psnr = evaluate_filter(test_noisy[lam], x_test, gaussian_blur)\n",
    "    \n",
    "    print(f\"Mean Blur PSNR: {mean_psnr:.2f} dB\")\n",
    "    print(f\"Median Blur PSNR: {median_psnr:.2f} dB\")\n",
    "    print(f\"Bilateral Filter PSNR: {bilateral_psnr:.2f} dB\")\n",
    "    print(f\"Gaussian Blur PSNR: {gaussian_psnr:.2f} dB\")\n"
   ]
  }
 ],
 "metadata": {
  "kernelspec": {
   "display_name": ".venv",
   "language": "python",
   "name": "python3"
  },
  "language_info": {
   "codemirror_mode": {
    "name": "ipython",
    "version": 3
   },
   "file_extension": ".py",
   "mimetype": "text/x-python",
   "name": "python",
   "nbconvert_exporter": "python",
   "pygments_lexer": "ipython3",
   "version": "3.9.6"
  }
 },
 "nbformat": 4,
 "nbformat_minor": 2
}
