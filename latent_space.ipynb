{
 "cells": [
  {
   "cell_type": "code",
   "execution_count": 6,
   "metadata": {},
   "outputs": [],
   "source": [
    "import os\n",
    "import cv2 as cv\n",
    "import numpy as np\n",
    "from sklearn.model_selection import train_test_split\n",
    "from tensorflow.keras.layers import Input, Conv2D, MaxPooling2D, UpSampling2D\n",
    "from tensorflow.keras.models import Model\n",
    "import tensorflow as tf"
   ]
  },
  {
   "cell_type": "code",
   "execution_count": 7,
   "metadata": {},
   "outputs": [],
   "source": [
    "def load_images_from_folder(foldername, target_size=(64, 64)):\n",
    "    images = []\n",
    "    for filename in os.listdir(foldername):\n",
    "        img = cv.imread(os.path.join(foldername, filename), cv.IMREAD_GRAYSCALE)\n",
    "        if img is not None:\n",
    "            img = cv.resize(img, target_size)\n",
    "            images.append(img)\n",
    "    return images\n",
    "\n",
    "def PSNR(original, compressed):\n",
    "    original = tf.cast(original, tf.float32)\n",
    "    compressed = tf.cast(compressed, tf.float32)      \n",
    "    mse = tf.reduce_mean(tf.square(original - compressed))\n",
    "    max_pixel = 255.0\n",
    "    psnr = 20 * tf.math.log(max_pixel / tf.sqrt(mse)) / tf.math.log(10.0)\n",
    "    return psnr.numpy()   # return numpy float here"
   ]
  },
  {
   "cell_type": "code",
   "execution_count": 8,
   "metadata": {},
   "outputs": [],
   "source": [
    "# Define encoder and autoencoder models\n",
    "def encode(input_img):\n",
    "    x = Conv2D(32, (3, 3), activation='relu', padding='same')(input_img)\n",
    "    x = MaxPooling2D((2, 2), padding='same')(x)\n",
    "    x = Conv2D(64, (3, 3), activation='relu', padding='same')(x)\n",
    "    encoded = MaxPooling2D((2, 2), padding='same')(x)\n",
    "    return encoded\n",
    "\n",
    "def forward(input_img):\n",
    "    encoded = encode(input_img)\n",
    "    x = Conv2D(64, (3, 3), activation='relu', padding='same')(encoded)\n",
    "    x = UpSampling2D((2, 2))(x)\n",
    "    x = Conv2D(32, (3, 3), activation='relu', padding='same')(x)\n",
    "    x = UpSampling2D((2, 2))(x)\n",
    "    decoded = Conv2D(1, (3, 3), activation='sigmoid', padding='same')(x)\n",
    "    return decoded\n",
    "\n",
    "input_img = Input(shape=(64, 64, 1))\n",
    "autoencoder = Model(input_img, forward(input_img))\n",
    "autoencoder.compile(optimizer='adam', loss='mean_squared_error')\n",
    "\n",
    "encoder_model = Model(input_img, encode(input_img))\n"
   ]
  },
  {
   "cell_type": "code",
   "execution_count": 9,
   "metadata": {},
   "outputs": [],
   "source": [
    "# Load and preprocess images\n",
    "images = load_images_from_folder(\"pneumonia\")\n",
    "images = np.array(images, dtype=np.float32) / 255.0\n",
    "images = np.expand_dims(images, axis=-1)  # add channel dimension\n",
    "\n",
    "def add_poisson_noise(images, lam):\n",
    "    noisy = images + np.random.poisson(lam, images.shape) / 255.0\n",
    "    return np.clip(noisy, 0., 1.)\n",
    "\n",
    "# Add noise\n",
    "lam25 = add_poisson_noise(images, 25)\n",
    "lam50 = add_poisson_noise(images, 50)\n",
    "lam75 = add_poisson_noise(images, 75)"
   ]
  },
  {
   "cell_type": "code",
   "execution_count": 10,
   "metadata": {},
   "outputs": [],
   "source": [
    "# Split dataset for training/testing\n",
    "x_train, x_test = train_test_split(images, test_size=0.2, random_state=42)\n",
    "train25, test25 = train_test_split(lam25, test_size=0.2, random_state=42)\n",
    "train50, test50 = train_test_split(lam50, test_size=0.2, random_state=42)\n",
    "train75, test75 = train_test_split(lam75, test_size=0.2, random_state=42)"
   ]
  },
  {
   "cell_type": "code",
   "execution_count": 11,
   "metadata": {},
   "outputs": [
    {
     "name": "stdout",
     "output_type": "stream",
     "text": [
      "--- Lambda = 25 ---\n",
      "Epoch 1/5\n",
      "27/27 - 12s - 461ms/step - loss: 0.0302 - val_loss: 0.0115\n",
      "Epoch 2/5\n",
      "27/27 - 11s - 423ms/step - loss: 0.0078 - val_loss: 0.0059\n",
      "Epoch 3/5\n",
      "27/27 - 11s - 424ms/step - loss: 0.0055 - val_loss: 0.0045\n",
      "Epoch 4/5\n",
      "27/27 - 12s - 443ms/step - loss: 0.0043 - val_loss: 0.0038\n",
      "Epoch 5/5\n",
      "27/27 - 12s - 443ms/step - loss: 0.0042 - val_loss: 0.0037\n",
      "\u001b[1m27/27\u001b[0m \u001b[32m━━━━━━━━━━━━━━━━━━━━\u001b[0m\u001b[37m\u001b[0m \u001b[1m1s\u001b[0m 25ms/step\n",
      "Average PSNR after training on noisy inputs (lambda=25): 67.6918\n",
      "--- Lambda = 50 ---\n",
      "Epoch 1/5\n",
      "27/27 - 18s - 661ms/step - loss: 0.0333 - val_loss: 0.0127\n",
      "Epoch 2/5\n",
      "27/27 - 13s - 482ms/step - loss: 0.0100 - val_loss: 0.0079\n",
      "Epoch 3/5\n",
      "27/27 - 22s - 818ms/step - loss: 0.0067 - val_loss: 0.0058\n",
      "Epoch 4/5\n",
      "27/27 - 18s - 664ms/step - loss: 0.0052 - val_loss: 0.0050\n",
      "Epoch 5/5\n",
      "27/27 - 17s - 622ms/step - loss: 0.0045 - val_loss: 0.0041\n",
      "\u001b[1m27/27\u001b[0m \u001b[32m━━━━━━━━━━━━━━━━━━━━\u001b[0m\u001b[37m\u001b[0m \u001b[1m1s\u001b[0m 33ms/step\n",
      "Average PSNR after training on noisy inputs (lambda=50): 61.8021\n",
      "--- Lambda = 75 ---\n",
      "Epoch 1/5\n",
      "27/27 - 16s - 597ms/step - loss: 0.0324 - val_loss: 0.0151\n",
      "Epoch 2/5\n",
      "27/27 - 14s - 524ms/step - loss: 0.0111 - val_loss: 0.0095\n",
      "Epoch 3/5\n",
      "27/27 - 12s - 457ms/step - loss: 0.0084 - val_loss: 0.0068\n",
      "Epoch 4/5\n",
      "27/27 - 13s - 474ms/step - loss: 0.0060 - val_loss: 0.0052\n",
      "Epoch 5/5\n",
      "27/27 - 18s - 654ms/step - loss: 0.0053 - val_loss: 0.0048\n",
      "\u001b[1m27/27\u001b[0m \u001b[32m━━━━━━━━━━━━━━━━━━━━\u001b[0m\u001b[37m\u001b[0m \u001b[1m1s\u001b[0m 42ms/step\n",
      "Average PSNR after training on noisy inputs (lambda=75): 58.4541\n"
     ]
    }
   ],
   "source": [
    "# Train and evaluate autoencoders on noisy images\n",
    "noisy_lambdas = [25, 50, 75]\n",
    "train_sets = [train25, train50, train75]\n",
    "test_sets = [test25, test50, test75]\n",
    "\n",
    "for lam, train_data, test_data in zip(noisy_lambdas, train_sets, test_sets):\n",
    "    print(f\"--- Lambda = {lam} ---\")\n",
    "    model = Model(input_img, forward(input_img))\n",
    "    model.compile(optimizer='adam', loss='mean_squared_error')\n",
    "\n",
    "    model.fit(train_data, x_train,\n",
    "              epochs=5,\n",
    "              batch_size=128,\n",
    "              shuffle=True,\n",
    "              validation_data=(test_data, x_test),\n",
    "              verbose=2)\n",
    "\n",
    "    decoded_test = model.predict(test_data)\n",
    "\n",
    "    psnr_scores = np.array([PSNR(x, y) for x, y in zip(test_data, decoded_test)])  \n",
    "    print(f\"Average PSNR after training on noisy inputs (lambda={lam}): {psnr_scores.mean():.4f}\")\n",
    "\n",
    "    encoded_train_noisy = encode(train_data)\n",
    "    encoded_flat = encoded_train_noisy.numpy().reshape((encoded_train_noisy.shape[0], -1))  # convert to numpy and flatten\n",
    "    np.savetxt(f\"encoded_images_lam{lam}.csv\", encoded_flat, delimiter=\",\")"
   ]
  }
 ],
 "metadata": {
  "kernelspec": {
   "display_name": ".venv",
   "language": "python",
   "name": "python3"
  },
  "language_info": {
   "codemirror_mode": {
    "name": "ipython",
    "version": 3
   },
   "file_extension": ".py",
   "mimetype": "text/x-python",
   "name": "python",
   "nbconvert_exporter": "python",
   "pygments_lexer": "ipython3",
   "version": "3.9.6"
  }
 },
 "nbformat": 4,
 "nbformat_minor": 2
}
